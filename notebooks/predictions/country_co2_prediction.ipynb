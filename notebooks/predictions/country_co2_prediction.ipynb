{
 "cells": [
  {
   "cell_type": "code",
   "execution_count": 164,
   "id": "65c0dc24",
   "metadata": {},
   "outputs": [],
   "source": [
    "import pandas as pd\n",
    "import numpy as np\n",
    "from sklearn.preprocessing import MinMaxScaler\n",
    "from keras.models import Sequential\n",
    "from keras.layers import Dense, LSTM"
   ]
  },
  {
   "cell_type": "code",
   "execution_count": 165,
   "id": "8d04335b",
   "metadata": {},
   "outputs": [
    {
     "data": {
      "text/html": [
       "<div>\n",
       "<style scoped>\n",
       "    .dataframe tbody tr th:only-of-type {\n",
       "        vertical-align: middle;\n",
       "    }\n",
       "\n",
       "    .dataframe tbody tr th {\n",
       "        vertical-align: top;\n",
       "    }\n",
       "\n",
       "    .dataframe thead th {\n",
       "        text-align: right;\n",
       "    }\n",
       "</style>\n",
       "<table border=\"1\" class=\"dataframe\">\n",
       "  <thead>\n",
       "    <tr style=\"text-align: right;\">\n",
       "      <th></th>\n",
       "      <th>co2</th>\n",
       "    </tr>\n",
       "    <tr>\n",
       "      <th>year</th>\n",
       "      <th></th>\n",
       "    </tr>\n",
       "  </thead>\n",
       "  <tbody>\n",
       "    <tr>\n",
       "      <th>1950-01-01</th>\n",
       "      <td>61.103</td>\n",
       "    </tr>\n",
       "    <tr>\n",
       "      <th>1951-01-01</th>\n",
       "      <td>64.022</td>\n",
       "    </tr>\n",
       "    <tr>\n",
       "      <th>1952-01-01</th>\n",
       "      <td>67.426</td>\n",
       "    </tr>\n",
       "    <tr>\n",
       "      <th>1953-01-01</th>\n",
       "      <td>68.705</td>\n",
       "    </tr>\n",
       "    <tr>\n",
       "      <th>1954-01-01</th>\n",
       "      <td>72.414</td>\n",
       "    </tr>\n",
       "  </tbody>\n",
       "</table>\n",
       "</div>"
      ],
      "text/plain": [
       "               co2\n",
       "year              \n",
       "1950-01-01  61.103\n",
       "1951-01-01  64.022\n",
       "1952-01-01  67.426\n",
       "1953-01-01  68.705\n",
       "1954-01-01  72.414"
      ]
     },
     "execution_count": 165,
     "metadata": {},
     "output_type": "execute_result"
    }
   ],
   "source": [
    "# Load the CO2 concentration data\n",
    "country = 'India'\n",
    "df = pd.read_csv(\"C:\\\\Users\\\\mohdz\\\\OneDrive\\\\Desktop\\\\Mini_Project\\\\data\\\\processed\\\\co2_country.csv\", index_col='year', parse_dates=True)\n",
    "df = df.loc[df['country'] == country, ['co2']]\n",
    "df.head()"
   ]
  },
  {
   "cell_type": "code",
   "execution_count": null,
   "id": "5ef37823",
   "metadata": {},
   "outputs": [],
   "source": []
  },
  {
   "cell_type": "code",
   "execution_count": 166,
   "id": "a83139c3",
   "metadata": {},
   "outputs": [],
   "source": [
    "scaler = MinMaxScaler(feature_range=(0, 1))\n",
    "data = scaler.fit_transform(df['co2'].values.reshape(-1, 1))"
   ]
  },
  {
   "cell_type": "code",
   "execution_count": 167,
   "id": "4fd485bd",
   "metadata": {},
   "outputs": [],
   "source": [
    "train_size = int(len(data) * 0.9)\n",
    "train_data, test_data = data[:train_size,:], data[train_size:,:]"
   ]
  },
  {
   "cell_type": "code",
   "execution_count": 168,
   "id": "64680c4b",
   "metadata": {},
   "outputs": [],
   "source": [
    "# Create the training and testing datasets\n",
    "def create_dataset(dataset, time_steps=1):\n",
    "    X, Y = [], []\n",
    "    for i in range(len(dataset)-time_steps):\n",
    "        a = dataset[i:(i+time_steps), 0]\n",
    "        X.append(a)\n",
    "        Y.append(dataset[i + time_steps, 0])\n",
    "    return np.array(X), np.array(Y)"
   ]
  },
  {
   "cell_type": "code",
   "execution_count": 169,
   "id": "50a8a9e4",
   "metadata": {},
   "outputs": [],
   "source": [
    "\n",
    "time_steps = 1 \n",
    "X_train, y_train = create_dataset(train_data, time_steps)\n",
    "X_test, y_test = create_dataset(test_data, time_steps)"
   ]
  },
  {
   "cell_type": "code",
   "execution_count": 170,
   "id": "f44a79a2",
   "metadata": {},
   "outputs": [],
   "source": [
    "model = Sequential()\n",
    "model.add(LSTM(50, return_sequences=True, input_shape=(X_train.shape[1], 1)))\n",
    "model.add(LSTM(50))\n",
    "model.add(Dense(1))\n",
    "model.compile(loss='mean_squared_error', optimizer='adam', run_eagerly=True)"
   ]
  },
  {
   "cell_type": "code",
   "execution_count": 171,
   "id": "a0ac4807",
   "metadata": {},
   "outputs": [
    {
     "name": "stdout",
     "output_type": "stream",
     "text": [
      "Epoch 1/100\n",
      "1/1 [==============================] - 0s 63ms/step - loss: 0.0752\n",
      "Epoch 2/100\n",
      "1/1 [==============================] - 0s 62ms/step - loss: 0.0735\n",
      "Epoch 3/100\n",
      "1/1 [==============================] - 0s 62ms/step - loss: 0.0717\n",
      "Epoch 4/100\n",
      "1/1 [==============================] - 0s 54ms/step - loss: 0.0700\n",
      "Epoch 5/100\n",
      "1/1 [==============================] - 0s 60ms/step - loss: 0.0683\n",
      "Epoch 6/100\n",
      "1/1 [==============================] - 0s 64ms/step - loss: 0.0666\n",
      "Epoch 7/100\n",
      "1/1 [==============================] - 0s 57ms/step - loss: 0.0649\n",
      "Epoch 8/100\n",
      "1/1 [==============================] - 0s 57ms/step - loss: 0.0633\n",
      "Epoch 9/100\n",
      "1/1 [==============================] - 0s 65ms/step - loss: 0.0617\n",
      "Epoch 10/100\n",
      "1/1 [==============================] - 0s 60ms/step - loss: 0.0601\n",
      "Epoch 11/100\n",
      "1/1 [==============================] - 0s 56ms/step - loss: 0.0585\n",
      "Epoch 12/100\n",
      "1/1 [==============================] - 0s 49ms/step - loss: 0.0569\n",
      "Epoch 13/100\n",
      "1/1 [==============================] - 0s 55ms/step - loss: 0.0554\n",
      "Epoch 14/100\n",
      "1/1 [==============================] - 0s 52ms/step - loss: 0.0539\n",
      "Epoch 15/100\n",
      "1/1 [==============================] - 0s 61ms/step - loss: 0.0524\n",
      "Epoch 16/100\n",
      "1/1 [==============================] - 0s 53ms/step - loss: 0.0509\n",
      "Epoch 17/100\n",
      "1/1 [==============================] - 0s 51ms/step - loss: 0.0494\n",
      "Epoch 18/100\n",
      "1/1 [==============================] - 0s 56ms/step - loss: 0.0480\n",
      "Epoch 19/100\n",
      "1/1 [==============================] - 0s 38ms/step - loss: 0.0465\n",
      "Epoch 20/100\n",
      "1/1 [==============================] - 0s 39ms/step - loss: 0.0451\n",
      "Epoch 21/100\n",
      "1/1 [==============================] - 0s 57ms/step - loss: 0.0438\n",
      "Epoch 22/100\n",
      "1/1 [==============================] - 0s 55ms/step - loss: 0.0424\n",
      "Epoch 23/100\n",
      "1/1 [==============================] - 0s 57ms/step - loss: 0.0411\n",
      "Epoch 24/100\n",
      "1/1 [==============================] - 0s 68ms/step - loss: 0.0398\n",
      "Epoch 25/100\n",
      "1/1 [==============================] - 0s 54ms/step - loss: 0.0386\n",
      "Epoch 26/100\n",
      "1/1 [==============================] - 0s 53ms/step - loss: 0.0374\n",
      "Epoch 27/100\n",
      "1/1 [==============================] - 0s 60ms/step - loss: 0.0362\n",
      "Epoch 28/100\n",
      "1/1 [==============================] - 0s 57ms/step - loss: 0.0351\n",
      "Epoch 29/100\n",
      "1/1 [==============================] - 0s 47ms/step - loss: 0.0340\n",
      "Epoch 30/100\n",
      "1/1 [==============================] - 0s 53ms/step - loss: 0.0330\n",
      "Epoch 31/100\n",
      "1/1 [==============================] - 0s 56ms/step - loss: 0.0321\n",
      "Epoch 32/100\n",
      "1/1 [==============================] - 0s 56ms/step - loss: 0.0312\n",
      "Epoch 33/100\n",
      "1/1 [==============================] - 0s 52ms/step - loss: 0.0304\n",
      "Epoch 34/100\n",
      "1/1 [==============================] - 0s 42ms/step - loss: 0.0296\n",
      "Epoch 35/100\n",
      "1/1 [==============================] - 0s 45ms/step - loss: 0.0289\n",
      "Epoch 36/100\n",
      "1/1 [==============================] - 0s 61ms/step - loss: 0.0283\n",
      "Epoch 37/100\n",
      "1/1 [==============================] - 0s 52ms/step - loss: 0.0277\n",
      "Epoch 38/100\n",
      "1/1 [==============================] - 0s 60ms/step - loss: 0.0272\n",
      "Epoch 39/100\n",
      "1/1 [==============================] - 0s 46ms/step - loss: 0.0268\n",
      "Epoch 40/100\n",
      "1/1 [==============================] - 0s 57ms/step - loss: 0.0264\n",
      "Epoch 41/100\n",
      "1/1 [==============================] - 0s 44ms/step - loss: 0.0260\n",
      "Epoch 42/100\n",
      "1/1 [==============================] - 0s 57ms/step - loss: 0.0257\n",
      "Epoch 43/100\n",
      "1/1 [==============================] - 0s 53ms/step - loss: 0.0255\n",
      "Epoch 44/100\n",
      "1/1 [==============================] - 0s 55ms/step - loss: 0.0252\n",
      "Epoch 45/100\n",
      "1/1 [==============================] - 0s 61ms/step - loss: 0.0250\n",
      "Epoch 46/100\n",
      "1/1 [==============================] - 0s 58ms/step - loss: 0.0247\n",
      "Epoch 47/100\n",
      "1/1 [==============================] - 0s 49ms/step - loss: 0.0245\n",
      "Epoch 48/100\n",
      "1/1 [==============================] - 0s 64ms/step - loss: 0.0242\n",
      "Epoch 49/100\n",
      "1/1 [==============================] - 0s 71ms/step - loss: 0.0239\n",
      "Epoch 50/100\n",
      "1/1 [==============================] - 0s 55ms/step - loss: 0.0236\n",
      "Epoch 51/100\n",
      "1/1 [==============================] - 0s 50ms/step - loss: 0.0233\n",
      "Epoch 52/100\n",
      "1/1 [==============================] - 0s 56ms/step - loss: 0.0229\n",
      "Epoch 53/100\n",
      "1/1 [==============================] - 0s 45ms/step - loss: 0.0225\n",
      "Epoch 54/100\n",
      "1/1 [==============================] - 0s 41ms/step - loss: 0.0221\n",
      "Epoch 55/100\n",
      "1/1 [==============================] - 0s 51ms/step - loss: 0.0216\n",
      "Epoch 56/100\n",
      "1/1 [==============================] - 0s 52ms/step - loss: 0.0212\n",
      "Epoch 57/100\n",
      "1/1 [==============================] - 0s 54ms/step - loss: 0.0207\n",
      "Epoch 58/100\n",
      "1/1 [==============================] - 0s 53ms/step - loss: 0.0202\n",
      "Epoch 59/100\n",
      "1/1 [==============================] - 0s 50ms/step - loss: 0.0197\n",
      "Epoch 60/100\n",
      "1/1 [==============================] - 0s 55ms/step - loss: 0.0193\n",
      "Epoch 61/100\n",
      "1/1 [==============================] - 0s 50ms/step - loss: 0.0188\n",
      "Epoch 62/100\n",
      "1/1 [==============================] - 0s 49ms/step - loss: 0.0183\n",
      "Epoch 63/100\n",
      "1/1 [==============================] - 0s 53ms/step - loss: 0.0178\n",
      "Epoch 64/100\n",
      "1/1 [==============================] - 0s 55ms/step - loss: 0.0173\n",
      "Epoch 65/100\n",
      "1/1 [==============================] - 0s 47ms/step - loss: 0.0168\n",
      "Epoch 66/100\n",
      "1/1 [==============================] - 0s 50ms/step - loss: 0.0163\n",
      "Epoch 67/100\n",
      "1/1 [==============================] - 0s 55ms/step - loss: 0.0158\n",
      "Epoch 68/100\n",
      "1/1 [==============================] - 0s 54ms/step - loss: 0.0153\n",
      "Epoch 69/100\n",
      "1/1 [==============================] - 0s 49ms/step - loss: 0.0148\n",
      "Epoch 70/100\n",
      "1/1 [==============================] - 0s 54ms/step - loss: 0.0143\n",
      "Epoch 71/100\n",
      "1/1 [==============================] - 0s 53ms/step - loss: 0.0139\n",
      "Epoch 72/100\n",
      "1/1 [==============================] - 0s 48ms/step - loss: 0.0134\n",
      "Epoch 73/100\n",
      "1/1 [==============================] - 0s 54ms/step - loss: 0.0128\n",
      "Epoch 74/100\n",
      "1/1 [==============================] - 0s 54ms/step - loss: 0.0123\n",
      "Epoch 75/100\n",
      "1/1 [==============================] - 0s 55ms/step - loss: 0.0118\n",
      "Epoch 76/100\n",
      "1/1 [==============================] - 0s 55ms/step - loss: 0.0113\n",
      "Epoch 77/100\n",
      "1/1 [==============================] - 0s 53ms/step - loss: 0.0108\n",
      "Epoch 78/100\n",
      "1/1 [==============================] - 0s 56ms/step - loss: 0.0103\n",
      "Epoch 79/100\n",
      "1/1 [==============================] - 0s 54ms/step - loss: 0.0098\n",
      "Epoch 80/100\n",
      "1/1 [==============================] - 0s 57ms/step - loss: 0.0092\n",
      "Epoch 81/100\n",
      "1/1 [==============================] - 0s 42ms/step - loss: 0.0087\n",
      "Epoch 82/100\n",
      "1/1 [==============================] - 0s 54ms/step - loss: 0.0082\n",
      "Epoch 83/100\n",
      "1/1 [==============================] - 0s 57ms/step - loss: 0.0077\n",
      "Epoch 84/100\n",
      "1/1 [==============================] - 0s 54ms/step - loss: 0.0072\n",
      "Epoch 85/100\n",
      "1/1 [==============================] - 0s 51ms/step - loss: 0.0068\n",
      "Epoch 86/100\n",
      "1/1 [==============================] - 0s 47ms/step - loss: 0.0063\n",
      "Epoch 87/100\n",
      "1/1 [==============================] - 0s 51ms/step - loss: 0.0058\n",
      "Epoch 88/100\n",
      "1/1 [==============================] - 0s 37ms/step - loss: 0.0054\n",
      "Epoch 89/100\n",
      "1/1 [==============================] - 0s 51ms/step - loss: 0.0049\n",
      "Epoch 90/100\n",
      "1/1 [==============================] - 0s 51ms/step - loss: 0.0045\n",
      "Epoch 91/100\n",
      "1/1 [==============================] - 0s 53ms/step - loss: 0.0041\n",
      "Epoch 92/100\n",
      "1/1 [==============================] - 0s 54ms/step - loss: 0.0038\n",
      "Epoch 93/100\n",
      "1/1 [==============================] - 0s 51ms/step - loss: 0.0034\n",
      "Epoch 94/100\n",
      "1/1 [==============================] - 0s 61ms/step - loss: 0.0030\n",
      "Epoch 95/100\n",
      "1/1 [==============================] - 0s 40ms/step - loss: 0.0027\n",
      "Epoch 96/100\n",
      "1/1 [==============================] - 0s 54ms/step - loss: 0.0024\n",
      "Epoch 97/100\n",
      "1/1 [==============================] - 0s 46ms/step - loss: 0.0021\n",
      "Epoch 98/100\n",
      "1/1 [==============================] - 0s 48ms/step - loss: 0.0019\n",
      "Epoch 99/100\n",
      "1/1 [==============================] - 0s 59ms/step - loss: 0.0016\n",
      "Epoch 100/100\n",
      "1/1 [==============================] - 0s 58ms/step - loss: 0.0014\n"
     ]
    },
    {
     "data": {
      "text/plain": [
       "<keras.callbacks.History at 0x1a43119d300>"
      ]
     },
     "execution_count": 171,
     "metadata": {},
     "output_type": "execute_result"
    }
   ],
   "source": [
    "model.fit(X_train, y_train, epochs=100, batch_size=64, verbose=1)"
   ]
  },
  {
   "cell_type": "code",
   "execution_count": 172,
   "id": "db1f6fbf",
   "metadata": {},
   "outputs": [
    {
     "name": "stdout",
     "output_type": "stream",
     "text": [
      "2/2 [==============================] - 0s 14ms/step\n",
      "1/1 [==============================] - 0s 29ms/step\n",
      "Train Score: 681.54 RMSE\n",
      "Test Score: 226.81 RMSE\n"
     ]
    }
   ],
   "source": [
    "train_predictions = model.predict(X_train)\n",
    "test_predictions = model.predict(X_test)\n",
    "train_predictions = scaler.inverse_transform(train_predictions)\n",
    "y_train = scaler.inverse_transform([y_train])\n",
    "test_predictions = scaler.inverse_transform(test_predictions)\n",
    "y_test = scaler.inverse_transform([y_test])\n"
   ]
  },
  {
   "cell_type": "code",
   "execution_count": 173,
   "id": "d1922d9f",
   "metadata": {},
   "outputs": [
    {
     "data": {
      "image/png": "[encoded data removed]",
      "text/plain": [
       "<Figure size 640x480 with 1 Axes>"
      ]
     },
     "metadata": {},
     "output_type": "display_data"
    }
   ],
   "source": [
    "import matplotlib.pyplot as plt\n",
    "plt.plot(df['co2'].values, label='Actual')\n",
    "plt.plot(np.concatenate([train_predictions, test_predictions]), label='Predicted')\n",
    "plt.legend()\n",
    "plt.show()"
   ]
  },
  {
   "cell_type": "code",
   "execution_count": 174,
   "id": "4078df92",
   "metadata": {},
   "outputs": [
    {
     "data": {
      "image/png": "[encoded data removed]",
      "text/plain": [
       "<Figure size 1200x600 with 2 Axes>"
      ]
     },
     "metadata": {},
     "output_type": "display_data"
    }
   ],
   "source": [
    "fig, (ax1, ax2) = plt.subplots(1, 2, figsize=(12, 6))\n",
    "\n",
    "ax1.plot(df['co2'].values)\n",
    "ax1.set_title('Actual CO2 Concentration')\n",
    "\n",
    "ax2.plot(np.concatenate([train_predictions, test_predictions]))\n",
    "ax2.set_title('Predicted CO2 Concentration')\n",
    "\n",
    "plt.show()\n"
   ]
  },
  {
   "cell_type": "code",
   "execution_count": null,
   "id": "578fb499",
   "metadata": {},
   "outputs": [],
   "source": []
  }
 ],
 "metadata": {
  "kernelspec": {
   "display_name": "Python 3 (ipykernel)",
   "language": "python",
   "name": "python3"
  },
  "language_info": {
   "codemirror_mode": {
    "name": "ipython",
    "version": 3
   },
   "file_extension": ".py",
   "mimetype": "text/x-python",
   "name": "python",
   "nbconvert_exporter": "python",
   "pygments_lexer": "ipython3",
   "version": "3.10.4"
  },
  "varInspector": {
   "cols": {
    "lenName": 16,
    "lenType": 16,
    "lenVar": 40
   },
   "kernels_config": {
    "python": {
     "delete_cmd_postfix": "",
     "delete_cmd_prefix": "del ",
     "library": "var_list.py",
     "varRefreshCmd": "print(var_dic_list())"
    },
    "r": {
     "delete_cmd_postfix": ") ",
     "delete_cmd_prefix": "rm(",
     "library": "var_list.r",
     "varRefreshCmd": "cat(var_dic_list()) "
    }
   },
   "types_to_exclude": [
    "module",
    "function",
    "builtin_function_or_method",
    "instance",
    "_Feature"
   ],
   "window_display": false
  }
 },
 "nbformat": 4,
 "nbformat_minor": 5
}
